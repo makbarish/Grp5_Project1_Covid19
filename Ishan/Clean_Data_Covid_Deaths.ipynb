{
 "cells": [
  {
   "cell_type": "code",
   "execution_count": 91,
   "metadata": {},
   "outputs": [],
   "source": [
    "import pandas as pd"
   ]
  },
  {
   "cell_type": "code",
   "execution_count": 144,
   "metadata": {},
   "outputs": [
    {
     "name": "stderr",
     "output_type": "stream",
     "text": [
      "<ipython-input-144-b5351187194e>:42: SettingWithCopyWarning: \n",
      "A value is trying to be set on a copy of a slice from a DataFrame.\n",
      "Try using .loc[row_indexer,col_indexer] = value instead\n",
      "\n",
      "See the caveats in the documentation: https://pandas.pydata.org/pandas-docs/stable/user_guide/indexing.html#returning-a-view-versus-a-copy\n",
      "  deaths_2020['Date'] = deaths_2020['Month'].astype(str)+ ' / ' + deaths_2020['Year'].astype(str)\n",
      "<ipython-input-144-b5351187194e>:47: SettingWithCopyWarning: \n",
      "A value is trying to be set on a copy of a slice from a DataFrame.\n",
      "Try using .loc[row_indexer,col_indexer] = value instead\n",
      "\n",
      "See the caveats in the documentation: https://pandas.pydata.org/pandas-docs/stable/user_guide/indexing.html#returning-a-view-versus-a-copy\n",
      "  deaths_2021['Date'] = deaths_2021['Month'].astype(str)+ ' / ' + deaths_2021['Year'].astype(str)\n"
     ]
    }
   ],
   "source": [
    "file_death = 'time_series_covid_19_deaths.csv'\n",
    "deaths = pd.read_csv(file_death)\n",
    "#del deaths['Province/State']\n",
    "#covid_deaths = deaths.groupby('Country/Region').sum()\n",
    "#avg_lat_long = deaths.groupby('Country/Region')[['Lat','Long']].mean()\n",
    "#del covid_deaths['Lat']\n",
    "#del covid_deaths['Long']\n",
    "#avg_lat_long\n",
    "#covid_deaths['Lat'] = avg_lat_long.iloc[:,0]\n",
    "#covid_deaths['Long'] = avg_lat_long.iloc[:,1]\n",
    "#covid_deaths.head(10)\n",
    "\n",
    "deaths.columns[4:]\n",
    "\n",
    "deaths_long = deaths.melt(id_vars = ['Province/State','Country/Region','Lat','Long'],\n",
    "                         value_vars = deaths.columns[4:],\n",
    "                         var_name = 'Dates',  \n",
    "                         value_name='Deaths')\n",
    "del deaths_long['Province/State']\n",
    "deaths_long['Dates'] = pd.to_datetime(deaths_long['Dates'])\n",
    "deaths_long['Month'] = deaths_long['Dates'].dt.month\n",
    "deaths_long['Year'] = deaths_long['Dates'].dt.year\n",
    "del deaths_long['Dates']\n",
    "\n",
    "\n",
    "del deaths_long['Lat']\n",
    "del deaths_long['Long']\n",
    "#del deaths_long['Month']\n",
    "#del deaths_long['Year']\n",
    "\n",
    "deaths_long_clean = deaths_long.sort_values(['Month','Year'])\n",
    "\n",
    "#deaths_long_clean['Date'] = deaths_long_clean['Month'].astype(str)+ '/ ' + deaths_long['Year'].astype(str)\n",
    "#deaths_long_clean = deaths_long_clean.set_index('Country/Region')\n",
    "\n",
    "deaths_long_clean = deaths_long_clean.groupby(['Month','Year'])['Deaths'].sum().reset_index()\n",
    "deaths_long_clean = deaths_long_clean.sort_values(['Month','Year'])\n",
    "#deaths_long_clean.to_csv('deaths_date.csv')\n",
    "#deaths_long.groupby(pd.Grouper(key=\"Dates\", freq=\"1M\")).sum()\n",
    "\n",
    "deaths_2020 = deaths_long_clean[deaths_long_clean['Year'] == 2020]\n",
    "deaths_2020['Date'] = deaths_2020['Month'].astype(str)+ ' / ' + deaths_2020['Year'].astype(str)\n",
    "del deaths_2020['Month']\n",
    "del deaths_2020['Year']\n",
    "\n",
    "deaths_2021 = deaths_long_clean[deaths_long_clean['Year'] == 2021]\n",
    "deaths_2021['Date'] = deaths_2021['Month'].astype(str)+ ' / ' + deaths_2021['Year'].astype(str)\n",
    "del deaths_2021['Month']\n",
    "del deaths_2021['Year']\n",
    "\n",
    "deaths_total_per_month = deaths_2020.append(deaths_2021)"
   ]
  },
  {
   "cell_type": "code",
   "execution_count": 148,
   "metadata": {},
   "outputs": [
    {
     "name": "stdout",
     "output_type": "stream",
     "text": [
      "    index       Date    Deaths\n",
      "0       0   1 / 2020       889\n",
      "1       2   2 / 2020     46910\n",
      "2       4   3 / 2020    399162\n",
      "3       6   4 / 2020   4361073\n",
      "4       8   5 / 2020   9684444\n",
      "5      10   6 / 2020  13297463\n",
      "6      11   7 / 2020  18283971\n",
      "7      12   8 / 2020  23814819\n",
      "8      13   9 / 2020  28127317\n",
      "9      14  10 / 2020  34293432\n",
      "10     15  11 / 2020  39950452\n",
      "11     16  12 / 2020  51259581\n",
      "12      1   1 / 2021  62904167\n",
      "13      3   2 / 2021  67272084\n",
      "14      5   3 / 2021  82938337\n",
      "15      7   4 / 2021  89815760\n",
      "16      9   5 / 2021   6391689\n"
     ]
    }
   ],
   "source": [
    "deaths_total_per_month=deaths_total_per_month[['Date','Deaths']].reset_index()\n",
    "del deaths_total_per_month[index\n",
    "deaths_total_per_month.to_csv('deaths_date.csv')\n",
    "print(deaths_total_per_month)"
   ]
  },
  {
   "cell_type": "code",
   "execution_count": null,
   "metadata": {},
   "outputs": [],
   "source": []
  }
 ],
 "metadata": {
  "kernelspec": {
   "display_name": "Python [conda env:root] *",
   "language": "python",
   "name": "conda-root-py"
  },
  "language_info": {
   "codemirror_mode": {
    "name": "ipython",
    "version": 3
   },
   "file_extension": ".py",
   "mimetype": "text/x-python",
   "name": "python",
   "nbconvert_exporter": "python",
   "pygments_lexer": "ipython3",
   "version": "3.8.5"
  }
 },
 "nbformat": 4,
 "nbformat_minor": 4
}
