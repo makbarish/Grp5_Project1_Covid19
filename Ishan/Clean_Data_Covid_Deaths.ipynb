{
 "cells": [
  {
   "cell_type": "code",
   "execution_count": 91,
   "metadata": {},
   "outputs": [],
   "source": [
    "import pandas as pd"
   ]
  },
  {
   "cell_type": "code",
   "execution_count": 155,
   "metadata": {},
   "outputs": [],
   "source": [
    "file_death = 'time_series_covid_19_deaths.csv'\n",
    "deaths = pd.read_csv(file_death)\n",
    "\n",
    "deaths.columns[4:]\n",
    "\n",
    "deaths_long = deaths.melt(id_vars = ['Province/State','Country/Region','Lat','Long'],\n",
    "                         value_vars = deaths.columns[4:],\n",
    "                         var_name = 'Dates',  \n",
    "                         value_name='Deaths')\n",
    "del deaths_long['Province/State']\n",
    "deaths_long['Dates'] = pd.to_datetime(deaths_long['Dates'])\n",
    "deaths_long['Month'] = deaths_long['Dates'].dt.month\n",
    "deaths_long['Year'] = deaths_long['Dates'].dt.year\n",
    "del deaths_long['Dates']\n",
    "\n",
    "\n",
    "del deaths_long['Lat']\n",
    "del deaths_long['Long']\n",
    "\n",
    "deaths_long_clean = deaths_long.sort_values(['Month','Year'])"
   ]
  },
  {
   "cell_type": "code",
   "execution_count": 166,
   "metadata": {},
   "outputs": [
    {
     "name": "stderr",
     "output_type": "stream",
     "text": [
      "<ipython-input-166-11b420ccab0a>:5: SettingWithCopyWarning: \n",
      "A value is trying to be set on a copy of a slice from a DataFrame.\n",
      "Try using .loc[row_indexer,col_indexer] = value instead\n",
      "\n",
      "See the caveats in the documentation: https://pandas.pydata.org/pandas-docs/stable/user_guide/indexing.html#returning-a-view-versus-a-copy\n",
      "  deaths_2020['Date'] = deaths_2020['Month'].astype(str)+ ' / ' + deaths_2020['Year'].astype(str)\n",
      "<ipython-input-166-11b420ccab0a>:10: SettingWithCopyWarning: \n",
      "A value is trying to be set on a copy of a slice from a DataFrame.\n",
      "Try using .loc[row_indexer,col_indexer] = value instead\n",
      "\n",
      "See the caveats in the documentation: https://pandas.pydata.org/pandas-docs/stable/user_guide/indexing.html#returning-a-view-versus-a-copy\n",
      "  deaths_2021['Date'] = deaths_2021['Month'].astype(str)+ ' / ' + deaths_2021['Year'].astype(str)\n"
     ]
    }
   ],
   "source": [
    "deaths_long_date = deaths_long_clean.groupby(['Month','Year'])['Deaths'].sum().reset_index()\n",
    "deaths_long_date = deaths_long_date.sort_values(['Month','Year'])\n",
    "\n",
    "deaths_2020 = deaths_long_date[deaths_long_date['Year'] == 2020]\n",
    "deaths_2020['Date'] = deaths_2020['Month'].astype(str)+ ' / ' + deaths_2020['Year'].astype(str)\n",
    "del deaths_2020['Month']\n",
    "del deaths_2020['Year']\n",
    "\n",
    "deaths_2021 = deaths_long_date[deaths_long_date['Year'] == 2021]\n",
    "deaths_2021['Date'] = deaths_2021['Month'].astype(str)+ ' / ' + deaths_2021['Year'].astype(str)\n",
    "del deaths_2021['Month']\n",
    "del deaths_2021['Year']\n",
    "\n",
    "deaths_total_per_month = deaths_2020.append(deaths_2021)"
   ]
  },
  {
   "cell_type": "code",
   "execution_count": 167,
   "metadata": {},
   "outputs": [
    {
     "name": "stdout",
     "output_type": "stream",
     "text": [
      "         Date    Deaths\n",
      "0    1 / 2020       889\n",
      "1    2 / 2020     46910\n",
      "2    3 / 2020    399162\n",
      "3    4 / 2020   4361073\n",
      "4    5 / 2020   9684444\n",
      "5    6 / 2020  13297463\n",
      "6    7 / 2020  18283971\n",
      "7    8 / 2020  23814819\n",
      "8    9 / 2020  28127317\n",
      "9   10 / 2020  34293432\n",
      "10  11 / 2020  39950452\n",
      "11  12 / 2020  51259581\n",
      "12   1 / 2021  62904167\n",
      "13   2 / 2021  67272084\n",
      "14   3 / 2021  82938337\n",
      "15   4 / 2021  89815760\n",
      "16   5 / 2021   6391689\n"
     ]
    }
   ],
   "source": [
    "deaths_total_per_month=deaths_total_per_month[['Date','Deaths']].reset_index()\n",
    "del deaths_total_per_month['index']\n",
    "deaths_total_per_month.to_csv('deaths_date.csv')\n",
    "print(deaths_total_per_month)"
   ]
  },
  {
   "cell_type": "code",
   "execution_count": 172,
   "metadata": {},
   "outputs": [
    {
     "name": "stdout",
     "output_type": "stream",
     "text": [
      "                    Deaths\n",
      "Country/Region            \n",
      "Afghanistan         594820\n",
      "Albania             310382\n",
      "Algeria             743381\n",
      "Andorra              28671\n",
      "Angola               98242\n",
      "...                    ...\n",
      "Vietnam               9178\n",
      "West Bank and Gaza  348237\n",
      "Yemen               202847\n",
      "Zambia              171894\n",
      "Zimbabwe            194517\n",
      "\n",
      "[192 rows x 1 columns]\n"
     ]
    }
   ],
   "source": [
    "deaths_long_country = deaths_long_clean.groupby('Country/Region').sum()\n",
    "del deaths_long_country['Month']\n",
    "del deaths_long_country['Year']\n",
    "deaths_long_country.to_csv('deaths_country.csv')\n",
    "print(deaths_long_country)"
   ]
  },
  {
   "cell_type": "code",
   "execution_count": null,
   "metadata": {},
   "outputs": [],
   "source": []
  }
 ],
 "metadata": {
  "kernelspec": {
   "display_name": "Python [conda env:root] *",
   "language": "python",
   "name": "conda-root-py"
  },
  "language_info": {
   "codemirror_mode": {
    "name": "ipython",
    "version": 3
   },
   "file_extension": ".py",
   "mimetype": "text/x-python",
   "name": "python",
   "nbconvert_exporter": "python",
   "pygments_lexer": "ipython3",
   "version": "3.8.5"
  }
 },
 "nbformat": 4,
 "nbformat_minor": 4
}
