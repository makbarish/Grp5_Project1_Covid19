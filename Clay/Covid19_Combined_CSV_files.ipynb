{
 "cells": [
  {
   "cell_type": "code",
   "execution_count": 18,
   "id": "030707af",
   "metadata": {},
   "outputs": [],
   "source": [
    "import json\n",
    "import requests \n",
    "import numpy as np\n",
    "import requests\n",
    "from scipy.stats import linregress\n",
    "import pprint as pprint\n",
    "import pandas as pd\n",
    "import datetime\n",
    "import matplotlib.pyplot as plt\n",
    "from citipy import citipy\n",
    "# from api_keys import weather_api_key\n",
    "# from api_keys import g_key\n",
    "import time as time\n",
    "#import wget as wget"
   ]
  },
  {
   "cell_type": "code",
   "execution_count": 19,
   "id": "66e028b7",
   "metadata": {},
   "outputs": [],
   "source": [
    "file_to_load_1 = \"../Resources/time_series_covid_19_confirmed.csv\"\n",
    "file_to_load_2 = \"../Resources/time_series_covid_19_deaths.csv\"\n",
    "file_to_load_3 = \"../Resources/time_series_covid_19_recovered.csv\""
   ]
  },
  {
   "cell_type": "code",
   "execution_count": 20,
   "id": "536da0ec",
   "metadata": {},
   "outputs": [],
   "source": [
    "covid_19_confirmed = pd.read_csv(file_to_load_1)\n",
    "confirmed_df_long = pd.DataFrame(covid_19_confirmed)\n",
    "\n",
    "covid_19_deaths = pd.read_csv(file_to_load_2)\n",
    "deaths_df_long = pd.DataFrame(covid_19_deaths)\n",
    "\n",
    "covid_19_recovered = pd.read_csv(file_to_load_3)\n",
    "recovered_df_long = pd.DataFrame(covid_19_recovered)"
   ]
  },
  {
   "cell_type": "code",
   "execution_count": 21,
   "id": "b70c2272",
   "metadata": {
    "scrolled": true
   },
   "outputs": [
    {
     "data": {
      "text/plain": [
       "Index(['Province/State', 'Country/Region', 'Lat', 'Long', '1/22/20', '1/23/20',\n",
       "       '1/24/20', '1/25/20', '1/26/20', '1/27/20',\n",
       "       ...\n",
       "       '4/23/21', '4/24/21', '4/25/21', '4/26/21', '4/27/21', '4/28/21',\n",
       "       '4/29/21', '4/30/21', '5/1/21', '5/2/21'],\n",
       "      dtype='object', length=471)"
      ]
     },
     "execution_count": 21,
     "metadata": {},
     "output_type": "execute_result"
    }
   ],
   "source": [
    "covid_19_confirmed.columns"
   ]
  },
  {
   "cell_type": "code",
   "execution_count": 22,
   "id": "b24252b6",
   "metadata": {},
   "outputs": [
    {
     "data": {
      "text/plain": [
       "Index(['1/22/20', '1/23/20', '1/24/20', '1/25/20', '1/26/20', '1/27/20',\n",
       "       '1/28/20', '1/29/20', '1/30/20', '1/31/20',\n",
       "       ...\n",
       "       '4/23/21', '4/24/21', '4/25/21', '4/26/21', '4/27/21', '4/28/21',\n",
       "       '4/29/21', '4/30/21', '5/1/21', '5/2/21'],\n",
       "      dtype='object', length=467)"
      ]
     },
     "execution_count": 22,
     "metadata": {},
     "output_type": "execute_result"
    }
   ],
   "source": [
    "covid_19_confirmed.columns[4:]"
   ]
  },
  {
   "cell_type": "code",
   "execution_count": 23,
   "id": "224a623b",
   "metadata": {},
   "outputs": [],
   "source": [
    "dates = covid_19_confirmed.columns[4:]\n",
    "confirmed_df_long = covid_19_confirmed.melt(\n",
    "    id_vars=['Province/State', 'Country/Region', 'Lat', 'Long'], \n",
    "    value_vars=dates, \n",
    "    var_name='Date', \n",
    "    value_name='Confirmed'\n",
    ")\n",
    "deaths_df_long = covid_19_deaths.melt(\n",
    "    id_vars=['Province/State', 'Country/Region', 'Lat', 'Long'], \n",
    "    value_vars=dates, \n",
    "    var_name='Date', \n",
    "    value_name='Deaths'\n",
    ")\n",
    "recovered_df_long = covid_19_recovered.melt(\n",
    "    id_vars=['Province/State', 'Country/Region', 'Lat', 'Long'], \n",
    "    value_vars=dates, \n",
    "    var_name='Date', \n",
    "    value_name='Recovered'\n",
    ")"
   ]
  },
  {
   "cell_type": "code",
   "execution_count": 24,
   "id": "d49a3993",
   "metadata": {},
   "outputs": [],
   "source": [
    "# to remove recovered data for Canada due to mismatch issue Canada recovered data is counted by Country-wise rather than Province/State-wise).\n",
    "recovered_df_long = recovered_df_long[recovered_df_long['Country/Region']!='Canada']"
   ]
  },
  {
   "cell_type": "code",
   "execution_count": 25,
   "id": "36164506",
   "metadata": {},
   "outputs": [],
   "source": [
    "# Merging confirmed_df_long and deaths_df_long\n",
    "full_table = confirmed_df_long.merge(\n",
    "  right=deaths_df_long, \n",
    "  how='left',\n",
    "  on=['Province/State', 'Country/Region', 'Date', 'Lat', 'Long']\n",
    ")\n",
    "# Merging full_table and recovered_df_long\n",
    "full_table = full_table.merge(\n",
    "  right=recovered_df_long, \n",
    "  how='left',\n",
    "  on=['Province/State', 'Country/Region', 'Date', 'Lat', 'Long']\n",
    ")"
   ]
  },
  {
   "cell_type": "code",
   "execution_count": 26,
   "id": "8298463d",
   "metadata": {
    "scrolled": false
   },
   "outputs": [
    {
     "data": {
      "text/html": [
       "<div>\n",
       "<style scoped>\n",
       "    .dataframe tbody tr th:only-of-type {\n",
       "        vertical-align: middle;\n",
       "    }\n",
       "\n",
       "    .dataframe tbody tr th {\n",
       "        vertical-align: top;\n",
       "    }\n",
       "\n",
       "    .dataframe thead th {\n",
       "        text-align: right;\n",
       "    }\n",
       "</style>\n",
       "<table border=\"1\" class=\"dataframe\">\n",
       "  <thead>\n",
       "    <tr style=\"text-align: right;\">\n",
       "      <th></th>\n",
       "      <th>Province/State</th>\n",
       "      <th>Country/Region</th>\n",
       "      <th>Lat</th>\n",
       "      <th>Long</th>\n",
       "      <th>Date</th>\n",
       "      <th>Confirmed</th>\n",
       "      <th>Deaths</th>\n",
       "      <th>Recovered</th>\n",
       "    </tr>\n",
       "  </thead>\n",
       "  <tbody>\n",
       "    <tr>\n",
       "      <th>0</th>\n",
       "      <td>NaN</td>\n",
       "      <td>Afghanistan</td>\n",
       "      <td>33.939110</td>\n",
       "      <td>67.709953</td>\n",
       "      <td>2020-01-22</td>\n",
       "      <td>0</td>\n",
       "      <td>0</td>\n",
       "      <td>0.0</td>\n",
       "    </tr>\n",
       "    <tr>\n",
       "      <th>1</th>\n",
       "      <td>NaN</td>\n",
       "      <td>Albania</td>\n",
       "      <td>41.153300</td>\n",
       "      <td>20.168300</td>\n",
       "      <td>2020-01-22</td>\n",
       "      <td>0</td>\n",
       "      <td>0</td>\n",
       "      <td>0.0</td>\n",
       "    </tr>\n",
       "    <tr>\n",
       "      <th>2</th>\n",
       "      <td>NaN</td>\n",
       "      <td>Algeria</td>\n",
       "      <td>28.033900</td>\n",
       "      <td>1.659600</td>\n",
       "      <td>2020-01-22</td>\n",
       "      <td>0</td>\n",
       "      <td>0</td>\n",
       "      <td>0.0</td>\n",
       "    </tr>\n",
       "    <tr>\n",
       "      <th>3</th>\n",
       "      <td>NaN</td>\n",
       "      <td>Andorra</td>\n",
       "      <td>42.506300</td>\n",
       "      <td>1.521800</td>\n",
       "      <td>2020-01-22</td>\n",
       "      <td>0</td>\n",
       "      <td>0</td>\n",
       "      <td>0.0</td>\n",
       "    </tr>\n",
       "    <tr>\n",
       "      <th>4</th>\n",
       "      <td>NaN</td>\n",
       "      <td>Angola</td>\n",
       "      <td>-11.202700</td>\n",
       "      <td>17.873900</td>\n",
       "      <td>2020-01-22</td>\n",
       "      <td>0</td>\n",
       "      <td>0</td>\n",
       "      <td>0.0</td>\n",
       "    </tr>\n",
       "    <tr>\n",
       "      <th>...</th>\n",
       "      <td>...</td>\n",
       "      <td>...</td>\n",
       "      <td>...</td>\n",
       "      <td>...</td>\n",
       "      <td>...</td>\n",
       "      <td>...</td>\n",
       "      <td>...</td>\n",
       "      <td>...</td>\n",
       "    </tr>\n",
       "    <tr>\n",
       "      <th>128420</th>\n",
       "      <td>NaN</td>\n",
       "      <td>Vietnam</td>\n",
       "      <td>14.058324</td>\n",
       "      <td>108.277199</td>\n",
       "      <td>2021-05-02</td>\n",
       "      <td>2962</td>\n",
       "      <td>35</td>\n",
       "      <td>2549.0</td>\n",
       "    </tr>\n",
       "    <tr>\n",
       "      <th>128421</th>\n",
       "      <td>NaN</td>\n",
       "      <td>West Bank and Gaza</td>\n",
       "      <td>31.952200</td>\n",
       "      <td>35.233200</td>\n",
       "      <td>2021-05-02</td>\n",
       "      <td>297638</td>\n",
       "      <td>3272</td>\n",
       "      <td>275392.0</td>\n",
       "    </tr>\n",
       "    <tr>\n",
       "      <th>128422</th>\n",
       "      <td>NaN</td>\n",
       "      <td>Yemen</td>\n",
       "      <td>15.552727</td>\n",
       "      <td>48.516388</td>\n",
       "      <td>2021-05-02</td>\n",
       "      <td>6341</td>\n",
       "      <td>1233</td>\n",
       "      <td>2875.0</td>\n",
       "    </tr>\n",
       "    <tr>\n",
       "      <th>128423</th>\n",
       "      <td>NaN</td>\n",
       "      <td>Zambia</td>\n",
       "      <td>-13.133897</td>\n",
       "      <td>27.849332</td>\n",
       "      <td>2021-05-02</td>\n",
       "      <td>91693</td>\n",
       "      <td>1253</td>\n",
       "      <td>90082.0</td>\n",
       "    </tr>\n",
       "    <tr>\n",
       "      <th>128424</th>\n",
       "      <td>NaN</td>\n",
       "      <td>Zimbabwe</td>\n",
       "      <td>-19.015438</td>\n",
       "      <td>29.154857</td>\n",
       "      <td>2021-05-02</td>\n",
       "      <td>38281</td>\n",
       "      <td>1570</td>\n",
       "      <td>35634.0</td>\n",
       "    </tr>\n",
       "  </tbody>\n",
       "</table>\n",
       "<p>128425 rows × 8 columns</p>\n",
       "</div>"
      ],
      "text/plain": [
       "       Province/State      Country/Region        Lat        Long       Date  \\\n",
       "0                 NaN         Afghanistan  33.939110   67.709953 2020-01-22   \n",
       "1                 NaN             Albania  41.153300   20.168300 2020-01-22   \n",
       "2                 NaN             Algeria  28.033900    1.659600 2020-01-22   \n",
       "3                 NaN             Andorra  42.506300    1.521800 2020-01-22   \n",
       "4                 NaN              Angola -11.202700   17.873900 2020-01-22   \n",
       "...               ...                 ...        ...         ...        ...   \n",
       "128420            NaN             Vietnam  14.058324  108.277199 2021-05-02   \n",
       "128421            NaN  West Bank and Gaza  31.952200   35.233200 2021-05-02   \n",
       "128422            NaN               Yemen  15.552727   48.516388 2021-05-02   \n",
       "128423            NaN              Zambia -13.133897   27.849332 2021-05-02   \n",
       "128424            NaN            Zimbabwe -19.015438   29.154857 2021-05-02   \n",
       "\n",
       "        Confirmed  Deaths  Recovered  \n",
       "0               0       0        0.0  \n",
       "1               0       0        0.0  \n",
       "2               0       0        0.0  \n",
       "3               0       0        0.0  \n",
       "4               0       0        0.0  \n",
       "...           ...     ...        ...  \n",
       "128420       2962      35     2549.0  \n",
       "128421     297638    3272   275392.0  \n",
       "128422       6341    1233     2875.0  \n",
       "128423      91693    1253    90082.0  \n",
       "128424      38281    1570    35634.0  \n",
       "\n",
       "[128425 rows x 8 columns]"
      ]
     },
     "execution_count": 26,
     "metadata": {},
     "output_type": "execute_result"
    }
   ],
   "source": [
    "# Date from sting to datetime\n",
    "full_table['Date'] = pd.to_datetime(full_table['Date'])\n",
    "full_table"
   ]
  },
  {
   "cell_type": "code",
   "execution_count": 27,
   "id": "4511a5fe",
   "metadata": {},
   "outputs": [
    {
     "data": {
      "text/plain": [
       "Province/State    88263\n",
       "Country/Region        0\n",
       "Lat                 934\n",
       "Long                934\n",
       "Date                  0\n",
       "Confirmed             0\n",
       "Deaths                0\n",
       "Recovered          9807\n",
       "dtype: int64"
      ]
     },
     "execution_count": 27,
     "metadata": {},
     "output_type": "execute_result"
    }
   ],
   "source": [
    "# NA's are in Recovered Lat and Long\n",
    "full_table.isna().sum()"
   ]
  },
  {
   "cell_type": "code",
   "execution_count": 28,
   "id": "a2e22a03",
   "metadata": {},
   "outputs": [],
   "source": [
    "# to replace NA's with zero for Recovered Lat and Long\n",
    "full_table['Recovered'] = full_table['Recovered'].fillna(0)\n",
    "full_table['Lat'] = full_table['Lat'].fillna(0)\n",
    "full_table['Lat'] = full_table['Lat'].fillna(0)"
   ]
  },
  {
   "cell_type": "code",
   "execution_count": 29,
   "id": "bd45c03f",
   "metadata": {},
   "outputs": [],
   "source": [
    "# Coronavirus cases reported from 3 cruise ships: Grand Princess, Diamond Princess and MS Zaandam. \n",
    "# Data need to be extracted and treated differently due to Province/State and Country/Region mismatch over time\n",
    "ship_rows = full_table['Province/State'].str.contains('Grand Princess') | covid_19_confirmed['Province/State'].str.contains('Diamond Princess') | covid_19_confirmed['Country/Region'].str.contains('Diamond Princess') | covid_19_confirmed['Country/Region'].str.contains('MS Zaandam')\n",
    "full_ship = full_table[ship_rows]"
   ]
  },
  {
   "cell_type": "code",
   "execution_count": 30,
   "id": "346a6599",
   "metadata": {},
   "outputs": [],
   "source": [
    "# to remove rows for Grand Princess, Diamond Princess, and MS Zaandam\n",
    "# Data need to be extracted and treated differently due to Province/State and Country/Region mismatch over time\n",
    "full_table = full_table[~(ship_rows)]"
   ]
  },
  {
   "cell_type": "code",
   "execution_count": 31,
   "id": "f113b8ce",
   "metadata": {
    "scrolled": true
   },
   "outputs": [
    {
     "data": {
      "text/plain": [
       "Province/State     object\n",
       "Country/Region     object\n",
       "Lat               float64\n",
       "Long              float64\n",
       "1/22/20             int64\n",
       "                   ...   \n",
       "4/28/21             int64\n",
       "4/29/21             int64\n",
       "4/30/21             int64\n",
       "5/1/21              int64\n",
       "5/2/21              int64\n",
       "Length: 471, dtype: object"
      ]
     },
     "execution_count": 31,
     "metadata": {},
     "output_type": "execute_result"
    }
   ],
   "source": [
    "covid_19_confirmed.dtypes"
   ]
  },
  {
   "cell_type": "code",
   "execution_count": 32,
   "id": "6e203d06",
   "metadata": {},
   "outputs": [],
   "source": [
    "# Active Case = confirmed - deaths - recovered\n",
    "full_table = full_table.copy()\n",
    "full_table['Active'] = \"\""
   ]
  },
  {
   "cell_type": "code",
   "execution_count": 33,
   "id": "13affa3e",
   "metadata": {},
   "outputs": [],
   "source": [
    "full_table['Active'] = full_table['Confirmed'] - full_table['Deaths'] - full_table['Recovered']"
   ]
  },
  {
   "cell_type": "code",
   "execution_count": 34,
   "id": "869ff182",
   "metadata": {
    "scrolled": true
   },
   "outputs": [
    {
     "data": {
      "text/html": [
       "<div>\n",
       "<style scoped>\n",
       "    .dataframe tbody tr th:only-of-type {\n",
       "        vertical-align: middle;\n",
       "    }\n",
       "\n",
       "    .dataframe tbody tr th {\n",
       "        vertical-align: top;\n",
       "    }\n",
       "\n",
       "    .dataframe thead th {\n",
       "        text-align: right;\n",
       "    }\n",
       "</style>\n",
       "<table border=\"1\" class=\"dataframe\">\n",
       "  <thead>\n",
       "    <tr style=\"text-align: right;\">\n",
       "      <th></th>\n",
       "      <th>Province/State</th>\n",
       "      <th>Country/Region</th>\n",
       "      <th>Lat</th>\n",
       "      <th>Long</th>\n",
       "      <th>Date</th>\n",
       "      <th>Confirmed</th>\n",
       "      <th>Deaths</th>\n",
       "      <th>Recovered</th>\n",
       "      <th>Active</th>\n",
       "    </tr>\n",
       "  </thead>\n",
       "  <tbody>\n",
       "    <tr>\n",
       "      <th>0</th>\n",
       "      <td>NaN</td>\n",
       "      <td>Afghanistan</td>\n",
       "      <td>33.93911</td>\n",
       "      <td>67.709953</td>\n",
       "      <td>2020-01-22</td>\n",
       "      <td>0</td>\n",
       "      <td>0</td>\n",
       "      <td>0.0</td>\n",
       "      <td>0.0</td>\n",
       "    </tr>\n",
       "    <tr>\n",
       "      <th>1</th>\n",
       "      <td>NaN</td>\n",
       "      <td>Albania</td>\n",
       "      <td>41.15330</td>\n",
       "      <td>20.168300</td>\n",
       "      <td>2020-01-22</td>\n",
       "      <td>0</td>\n",
       "      <td>0</td>\n",
       "      <td>0.0</td>\n",
       "      <td>0.0</td>\n",
       "    </tr>\n",
       "    <tr>\n",
       "      <th>2</th>\n",
       "      <td>NaN</td>\n",
       "      <td>Algeria</td>\n",
       "      <td>28.03390</td>\n",
       "      <td>1.659600</td>\n",
       "      <td>2020-01-22</td>\n",
       "      <td>0</td>\n",
       "      <td>0</td>\n",
       "      <td>0.0</td>\n",
       "      <td>0.0</td>\n",
       "    </tr>\n",
       "    <tr>\n",
       "      <th>3</th>\n",
       "      <td>NaN</td>\n",
       "      <td>Andorra</td>\n",
       "      <td>42.50630</td>\n",
       "      <td>1.521800</td>\n",
       "      <td>2020-01-22</td>\n",
       "      <td>0</td>\n",
       "      <td>0</td>\n",
       "      <td>0.0</td>\n",
       "      <td>0.0</td>\n",
       "    </tr>\n",
       "    <tr>\n",
       "      <th>4</th>\n",
       "      <td>NaN</td>\n",
       "      <td>Angola</td>\n",
       "      <td>-11.20270</td>\n",
       "      <td>17.873900</td>\n",
       "      <td>2020-01-22</td>\n",
       "      <td>0</td>\n",
       "      <td>0</td>\n",
       "      <td>0.0</td>\n",
       "      <td>0.0</td>\n",
       "    </tr>\n",
       "  </tbody>\n",
       "</table>\n",
       "</div>"
      ],
      "text/plain": [
       "  Province/State Country/Region       Lat       Long       Date  Confirmed  \\\n",
       "0            NaN    Afghanistan  33.93911  67.709953 2020-01-22          0   \n",
       "1            NaN        Albania  41.15330  20.168300 2020-01-22          0   \n",
       "2            NaN        Algeria  28.03390   1.659600 2020-01-22          0   \n",
       "3            NaN        Andorra  42.50630   1.521800 2020-01-22          0   \n",
       "4            NaN         Angola -11.20270  17.873900 2020-01-22          0   \n",
       "\n",
       "   Deaths  Recovered  Active  \n",
       "0       0        0.0     0.0  \n",
       "1       0        0.0     0.0  \n",
       "2       0        0.0     0.0  \n",
       "3       0        0.0     0.0  \n",
       "4       0        0.0     0.0  "
      ]
     },
     "execution_count": 34,
     "metadata": {},
     "output_type": "execute_result"
    }
   ],
   "source": [
    "full_table.head()"
   ]
  },
  {
   "cell_type": "code",
   "execution_count": 35,
   "id": "48fadfe5",
   "metadata": {},
   "outputs": [],
   "source": [
    "full_grouped = full_table.copy()"
   ]
  },
  {
   "cell_type": "code",
   "execution_count": 36,
   "id": "c10940f4",
   "metadata": {},
   "outputs": [
    {
     "name": "stderr",
     "output_type": "stream",
     "text": [
      "<ipython-input-36-b4242cc93c67>:1: FutureWarning: Indexing with multiple keys (implicitly converted to a tuple of keys) will be deprecated, use a list instead.\n",
      "  full_grouped = full_table.groupby(['Date', 'Country/Region'])['Confirmed', 'Deaths', 'Recovered', 'Active'].sum().reset_index()\n"
     ]
    }
   ],
   "source": [
    "full_grouped = full_table.groupby(['Date', 'Country/Region'])['Confirmed', 'Deaths', 'Recovered', 'Active'].sum().reset_index()"
   ]
  },
  {
   "cell_type": "code",
   "execution_count": 37,
   "id": "67e60ad0",
   "metadata": {},
   "outputs": [
    {
     "data": {
      "text/html": [
       "<div>\n",
       "<style scoped>\n",
       "    .dataframe tbody tr th:only-of-type {\n",
       "        vertical-align: middle;\n",
       "    }\n",
       "\n",
       "    .dataframe tbody tr th {\n",
       "        vertical-align: top;\n",
       "    }\n",
       "\n",
       "    .dataframe thead th {\n",
       "        text-align: right;\n",
       "    }\n",
       "</style>\n",
       "<table border=\"1\" class=\"dataframe\">\n",
       "  <thead>\n",
       "    <tr style=\"text-align: right;\">\n",
       "      <th></th>\n",
       "      <th>Date</th>\n",
       "      <th>Country/Region</th>\n",
       "      <th>Confirmed</th>\n",
       "      <th>Deaths</th>\n",
       "      <th>Recovered</th>\n",
       "      <th>Active</th>\n",
       "    </tr>\n",
       "  </thead>\n",
       "  <tbody>\n",
       "    <tr>\n",
       "      <th>0</th>\n",
       "      <td>2020-01-22</td>\n",
       "      <td>Afghanistan</td>\n",
       "      <td>0</td>\n",
       "      <td>0</td>\n",
       "      <td>0.0</td>\n",
       "      <td>0.0</td>\n",
       "    </tr>\n",
       "    <tr>\n",
       "      <th>1</th>\n",
       "      <td>2020-01-22</td>\n",
       "      <td>Albania</td>\n",
       "      <td>0</td>\n",
       "      <td>0</td>\n",
       "      <td>0.0</td>\n",
       "      <td>0.0</td>\n",
       "    </tr>\n",
       "    <tr>\n",
       "      <th>2</th>\n",
       "      <td>2020-01-22</td>\n",
       "      <td>Algeria</td>\n",
       "      <td>0</td>\n",
       "      <td>0</td>\n",
       "      <td>0.0</td>\n",
       "      <td>0.0</td>\n",
       "    </tr>\n",
       "    <tr>\n",
       "      <th>3</th>\n",
       "      <td>2020-01-22</td>\n",
       "      <td>Andorra</td>\n",
       "      <td>0</td>\n",
       "      <td>0</td>\n",
       "      <td>0.0</td>\n",
       "      <td>0.0</td>\n",
       "    </tr>\n",
       "    <tr>\n",
       "      <th>4</th>\n",
       "      <td>2020-01-22</td>\n",
       "      <td>Angola</td>\n",
       "      <td>0</td>\n",
       "      <td>0</td>\n",
       "      <td>0.0</td>\n",
       "      <td>0.0</td>\n",
       "    </tr>\n",
       "    <tr>\n",
       "      <th>...</th>\n",
       "      <td>...</td>\n",
       "      <td>...</td>\n",
       "      <td>...</td>\n",
       "      <td>...</td>\n",
       "      <td>...</td>\n",
       "      <td>...</td>\n",
       "    </tr>\n",
       "    <tr>\n",
       "      <th>89657</th>\n",
       "      <td>2021-05-02</td>\n",
       "      <td>Vietnam</td>\n",
       "      <td>2962</td>\n",
       "      <td>35</td>\n",
       "      <td>2549.0</td>\n",
       "      <td>378.0</td>\n",
       "    </tr>\n",
       "    <tr>\n",
       "      <th>89658</th>\n",
       "      <td>2021-05-02</td>\n",
       "      <td>West Bank and Gaza</td>\n",
       "      <td>297638</td>\n",
       "      <td>3272</td>\n",
       "      <td>275392.0</td>\n",
       "      <td>18974.0</td>\n",
       "    </tr>\n",
       "    <tr>\n",
       "      <th>89659</th>\n",
       "      <td>2021-05-02</td>\n",
       "      <td>Yemen</td>\n",
       "      <td>6341</td>\n",
       "      <td>1233</td>\n",
       "      <td>2875.0</td>\n",
       "      <td>2233.0</td>\n",
       "    </tr>\n",
       "    <tr>\n",
       "      <th>89660</th>\n",
       "      <td>2021-05-02</td>\n",
       "      <td>Zambia</td>\n",
       "      <td>91693</td>\n",
       "      <td>1253</td>\n",
       "      <td>90082.0</td>\n",
       "      <td>358.0</td>\n",
       "    </tr>\n",
       "    <tr>\n",
       "      <th>89661</th>\n",
       "      <td>2021-05-02</td>\n",
       "      <td>Zimbabwe</td>\n",
       "      <td>38281</td>\n",
       "      <td>1570</td>\n",
       "      <td>35634.0</td>\n",
       "      <td>1077.0</td>\n",
       "    </tr>\n",
       "  </tbody>\n",
       "</table>\n",
       "<p>89662 rows × 6 columns</p>\n",
       "</div>"
      ],
      "text/plain": [
       "            Date      Country/Region  Confirmed  Deaths  Recovered   Active\n",
       "0     2020-01-22         Afghanistan          0       0        0.0      0.0\n",
       "1     2020-01-22             Albania          0       0        0.0      0.0\n",
       "2     2020-01-22             Algeria          0       0        0.0      0.0\n",
       "3     2020-01-22             Andorra          0       0        0.0      0.0\n",
       "4     2020-01-22              Angola          0       0        0.0      0.0\n",
       "...          ...                 ...        ...     ...        ...      ...\n",
       "89657 2021-05-02             Vietnam       2962      35     2549.0    378.0\n",
       "89658 2021-05-02  West Bank and Gaza     297638    3272   275392.0  18974.0\n",
       "89659 2021-05-02               Yemen       6341    1233     2875.0   2233.0\n",
       "89660 2021-05-02              Zambia      91693    1253    90082.0    358.0\n",
       "89661 2021-05-02            Zimbabwe      38281    1570    35634.0   1077.0\n",
       "\n",
       "[89662 rows x 6 columns]"
      ]
     },
     "execution_count": 37,
     "metadata": {},
     "output_type": "execute_result"
    }
   ],
   "source": [
    "full_grouped"
   ]
  },
  {
   "cell_type": "code",
   "execution_count": 38,
   "id": "45be1a65",
   "metadata": {},
   "outputs": [
    {
     "name": "stderr",
     "output_type": "stream",
     "text": [
      "<ipython-input-38-f53636865fab>:2: FutureWarning: Indexing with multiple keys (implicitly converted to a tuple of keys) will be deprecated, use a list instead.\n",
      "  temp = full_grouped.groupby(['Country/Region', 'Date', ])['Confirmed', 'Deaths', 'Recovered']\n"
     ]
    }
   ],
   "source": [
    "# new cases \n",
    "temp = full_grouped.groupby(['Country/Region', 'Date', ])['Confirmed', 'Deaths', 'Recovered']\n",
    "temp = temp.sum().diff().reset_index()\n",
    "mask = temp['Country/Region'] != temp['Country/Region'].shift(1)\n",
    "temp.loc[mask, 'Confirmed'] = np.nan\n",
    "temp.loc[mask, 'Deaths'] = np.nan\n",
    "temp.loc[mask, 'Recovered'] = np.nan\n",
    "# renaming columns\n",
    "temp.columns = ['Country/Region', 'Date', 'New cases', 'New deaths', 'New recovered']\n",
    "# merging new values\n",
    "full_grouped = pd.merge(full_grouped, temp, on=['Country/Region', 'Date'])\n",
    "# filling na with 0\n",
    "full_grouped = full_grouped.fillna(0)\n",
    "# fixing data types\n",
    "cols = ['New cases', 'New deaths', 'New recovered']\n",
    "full_grouped[cols] = full_grouped[cols].astype('int')\n",
    "# \n",
    "full_grouped['New cases'] = full_grouped['New cases'].apply(lambda x: 0 if x<0 else x)"
   ]
  },
  {
   "cell_type": "code",
   "execution_count": 39,
   "id": "32f9916b",
   "metadata": {},
   "outputs": [
    {
     "data": {
      "text/html": [
       "<div>\n",
       "<style scoped>\n",
       "    .dataframe tbody tr th:only-of-type {\n",
       "        vertical-align: middle;\n",
       "    }\n",
       "\n",
       "    .dataframe tbody tr th {\n",
       "        vertical-align: top;\n",
       "    }\n",
       "\n",
       "    .dataframe thead th {\n",
       "        text-align: right;\n",
       "    }\n",
       "</style>\n",
       "<table border=\"1\" class=\"dataframe\">\n",
       "  <thead>\n",
       "    <tr style=\"text-align: right;\">\n",
       "      <th></th>\n",
       "      <th>Date</th>\n",
       "      <th>Country/Region</th>\n",
       "      <th>Confirmed</th>\n",
       "      <th>Deaths</th>\n",
       "      <th>Recovered</th>\n",
       "      <th>Active</th>\n",
       "      <th>New cases</th>\n",
       "      <th>New deaths</th>\n",
       "      <th>New recovered</th>\n",
       "    </tr>\n",
       "  </thead>\n",
       "  <tbody>\n",
       "    <tr>\n",
       "      <th>0</th>\n",
       "      <td>2020-01-22</td>\n",
       "      <td>Afghanistan</td>\n",
       "      <td>0</td>\n",
       "      <td>0</td>\n",
       "      <td>0.0</td>\n",
       "      <td>0.0</td>\n",
       "      <td>0</td>\n",
       "      <td>0</td>\n",
       "      <td>0</td>\n",
       "    </tr>\n",
       "    <tr>\n",
       "      <th>1</th>\n",
       "      <td>2020-01-22</td>\n",
       "      <td>Albania</td>\n",
       "      <td>0</td>\n",
       "      <td>0</td>\n",
       "      <td>0.0</td>\n",
       "      <td>0.0</td>\n",
       "      <td>0</td>\n",
       "      <td>0</td>\n",
       "      <td>0</td>\n",
       "    </tr>\n",
       "    <tr>\n",
       "      <th>2</th>\n",
       "      <td>2020-01-22</td>\n",
       "      <td>Algeria</td>\n",
       "      <td>0</td>\n",
       "      <td>0</td>\n",
       "      <td>0.0</td>\n",
       "      <td>0.0</td>\n",
       "      <td>0</td>\n",
       "      <td>0</td>\n",
       "      <td>0</td>\n",
       "    </tr>\n",
       "    <tr>\n",
       "      <th>3</th>\n",
       "      <td>2020-01-22</td>\n",
       "      <td>Andorra</td>\n",
       "      <td>0</td>\n",
       "      <td>0</td>\n",
       "      <td>0.0</td>\n",
       "      <td>0.0</td>\n",
       "      <td>0</td>\n",
       "      <td>0</td>\n",
       "      <td>0</td>\n",
       "    </tr>\n",
       "    <tr>\n",
       "      <th>4</th>\n",
       "      <td>2020-01-22</td>\n",
       "      <td>Angola</td>\n",
       "      <td>0</td>\n",
       "      <td>0</td>\n",
       "      <td>0.0</td>\n",
       "      <td>0.0</td>\n",
       "      <td>0</td>\n",
       "      <td>0</td>\n",
       "      <td>0</td>\n",
       "    </tr>\n",
       "    <tr>\n",
       "      <th>...</th>\n",
       "      <td>...</td>\n",
       "      <td>...</td>\n",
       "      <td>...</td>\n",
       "      <td>...</td>\n",
       "      <td>...</td>\n",
       "      <td>...</td>\n",
       "      <td>...</td>\n",
       "      <td>...</td>\n",
       "      <td>...</td>\n",
       "    </tr>\n",
       "    <tr>\n",
       "      <th>89657</th>\n",
       "      <td>2021-05-02</td>\n",
       "      <td>Vietnam</td>\n",
       "      <td>2962</td>\n",
       "      <td>35</td>\n",
       "      <td>2549.0</td>\n",
       "      <td>378.0</td>\n",
       "      <td>20</td>\n",
       "      <td>0</td>\n",
       "      <td>1</td>\n",
       "    </tr>\n",
       "    <tr>\n",
       "      <th>89658</th>\n",
       "      <td>2021-05-02</td>\n",
       "      <td>West Bank and Gaza</td>\n",
       "      <td>297638</td>\n",
       "      <td>3272</td>\n",
       "      <td>275392.0</td>\n",
       "      <td>18974.0</td>\n",
       "      <td>1176</td>\n",
       "      <td>23</td>\n",
       "      <td>3059</td>\n",
       "    </tr>\n",
       "    <tr>\n",
       "      <th>89659</th>\n",
       "      <td>2021-05-02</td>\n",
       "      <td>Yemen</td>\n",
       "      <td>6341</td>\n",
       "      <td>1233</td>\n",
       "      <td>2875.0</td>\n",
       "      <td>2233.0</td>\n",
       "      <td>16</td>\n",
       "      <td>4</td>\n",
       "      <td>81</td>\n",
       "    </tr>\n",
       "    <tr>\n",
       "      <th>89660</th>\n",
       "      <td>2021-05-02</td>\n",
       "      <td>Zambia</td>\n",
       "      <td>91693</td>\n",
       "      <td>1253</td>\n",
       "      <td>90082.0</td>\n",
       "      <td>358.0</td>\n",
       "      <td>23</td>\n",
       "      <td>2</td>\n",
       "      <td>70</td>\n",
       "    </tr>\n",
       "    <tr>\n",
       "      <th>89661</th>\n",
       "      <td>2021-05-02</td>\n",
       "      <td>Zimbabwe</td>\n",
       "      <td>38281</td>\n",
       "      <td>1570</td>\n",
       "      <td>35634.0</td>\n",
       "      <td>1077.0</td>\n",
       "      <td>21</td>\n",
       "      <td>2</td>\n",
       "      <td>14</td>\n",
       "    </tr>\n",
       "  </tbody>\n",
       "</table>\n",
       "<p>89662 rows × 9 columns</p>\n",
       "</div>"
      ],
      "text/plain": [
       "            Date      Country/Region  Confirmed  Deaths  Recovered   Active  \\\n",
       "0     2020-01-22         Afghanistan          0       0        0.0      0.0   \n",
       "1     2020-01-22             Albania          0       0        0.0      0.0   \n",
       "2     2020-01-22             Algeria          0       0        0.0      0.0   \n",
       "3     2020-01-22             Andorra          0       0        0.0      0.0   \n",
       "4     2020-01-22              Angola          0       0        0.0      0.0   \n",
       "...          ...                 ...        ...     ...        ...      ...   \n",
       "89657 2021-05-02             Vietnam       2962      35     2549.0    378.0   \n",
       "89658 2021-05-02  West Bank and Gaza     297638    3272   275392.0  18974.0   \n",
       "89659 2021-05-02               Yemen       6341    1233     2875.0   2233.0   \n",
       "89660 2021-05-02              Zambia      91693    1253    90082.0    358.0   \n",
       "89661 2021-05-02            Zimbabwe      38281    1570    35634.0   1077.0   \n",
       "\n",
       "       New cases  New deaths  New recovered  \n",
       "0              0           0              0  \n",
       "1              0           0              0  \n",
       "2              0           0              0  \n",
       "3              0           0              0  \n",
       "4              0           0              0  \n",
       "...          ...         ...            ...  \n",
       "89657         20           0              1  \n",
       "89658       1176          23           3059  \n",
       "89659         16           4             81  \n",
       "89660         23           2             70  \n",
       "89661         21           2             14  \n",
       "\n",
       "[89662 rows x 9 columns]"
      ]
     },
     "execution_count": 39,
     "metadata": {},
     "output_type": "execute_result"
    }
   ],
   "source": [
    "full_grouped"
   ]
  },
  {
   "cell_type": "code",
   "execution_count": 40,
   "id": "e4254f51",
   "metadata": {},
   "outputs": [
    {
     "data": {
      "text/plain": [
       "(89662, 9)"
      ]
     },
     "execution_count": 40,
     "metadata": {},
     "output_type": "execute_result"
    }
   ],
   "source": [
    "full_grouped.shape"
   ]
  },
  {
   "cell_type": "code",
   "execution_count": 41,
   "id": "a0b200d6",
   "metadata": {},
   "outputs": [
    {
     "data": {
      "text/plain": [
       "Date              datetime64[ns]\n",
       "Country/Region            object\n",
       "Confirmed                  int64\n",
       "Deaths                     int64\n",
       "Recovered                float64\n",
       "Active                   float64\n",
       "New cases                  int64\n",
       "New deaths                 int32\n",
       "New recovered              int32\n",
       "dtype: object"
      ]
     },
     "execution_count": 41,
     "metadata": {},
     "output_type": "execute_result"
    }
   ],
   "source": [
    "full_grouped.dtypes"
   ]
  },
  {
   "cell_type": "code",
   "execution_count": 42,
   "id": "6dd8d74c",
   "metadata": {},
   "outputs": [
    {
     "data": {
      "text/plain": [
       "Timestamp('2021-05-02 00:00:00')"
      ]
     },
     "execution_count": 42,
     "metadata": {},
     "output_type": "execute_result"
    }
   ],
   "source": [
    "full_grouped[\"Date\"].max()"
   ]
  },
  {
   "cell_type": "code",
   "execution_count": 43,
   "id": "603b1ea3",
   "metadata": {},
   "outputs": [
    {
     "data": {
      "text/plain": [
       "Timedelta('-466 days +00:00:00')"
      ]
     },
     "execution_count": 43,
     "metadata": {},
     "output_type": "execute_result"
    }
   ],
   "source": [
    "full_grouped[\"Date\"].min() - full_grouped[\"Date\"].max()"
   ]
  },
  {
   "cell_type": "code",
   "execution_count": 44,
   "id": "ae37a272",
   "metadata": {},
   "outputs": [
    {
     "data": {
      "text/plain": [
       "<pandas.core.resample.DatetimeIndexResamplerGroupby object at 0x00000276D5E51850>"
      ]
     },
     "execution_count": 44,
     "metadata": {},
     "output_type": "execute_result"
    }
   ],
   "source": [
    "indexed_df_country = full_grouped.set_index(\"Date\").groupby(\"Country/Region\").resample(\"M\")\n",
    "indexed_df_country"
   ]
  },
  {
   "cell_type": "code",
   "execution_count": 45,
   "id": "4d0b1adc",
   "metadata": {},
   "outputs": [
    {
     "data": {
      "text/plain": [
       "<pandas.core.resample.DatetimeIndexResampler object at 0x00000276D53536A0>"
      ]
     },
     "execution_count": 45,
     "metadata": {},
     "output_type": "execute_result"
    }
   ],
   "source": [
    "indexed_df_by_month = full_grouped.set_index(\"Date\").resample(\"M\")\n",
    "indexed_df_by_month"
   ]
  },
  {
   "cell_type": "code",
   "execution_count": 46,
   "id": "942c22ec",
   "metadata": {},
   "outputs": [],
   "source": [
    "full_grouped.to_csv('COVID-19-time-series-clean-complete.csv')"
   ]
  },
  {
   "cell_type": "code",
   "execution_count": 47,
   "id": "76e4979d",
   "metadata": {},
   "outputs": [
    {
     "data": {
      "text/plain": [
       "<bound method Index.unique of Int64Index([    0,     1,     2,     3,     4,     5,     6,     7,     8,\n",
       "                9,\n",
       "            ...\n",
       "            89652, 89653, 89654, 89655, 89656, 89657, 89658, 89659, 89660,\n",
       "            89661],\n",
       "           dtype='int64', length=89662)>"
      ]
     },
     "execution_count": 47,
     "metadata": {},
     "output_type": "execute_result"
    }
   ],
   "source": [
    "full_grouped.index.unique"
   ]
  },
  {
   "cell_type": "code",
   "execution_count": 48,
   "id": "c7efef94",
   "metadata": {},
   "outputs": [
    {
     "data": {
      "text/plain": [
       "array(['Afghanistan', 'Albania', 'Algeria', 'Andorra', 'Angola',\n",
       "       'Antigua and Barbuda', 'Argentina', 'Armenia', 'Australia',\n",
       "       'Austria', 'Azerbaijan', 'Bahamas', 'Bahrain', 'Bangladesh',\n",
       "       'Barbados', 'Belarus', 'Belgium', 'Belize', 'Benin', 'Bhutan',\n",
       "       'Bolivia', 'Bosnia and Herzegovina', 'Botswana', 'Brazil',\n",
       "       'Brunei', 'Bulgaria', 'Burkina Faso', 'Burma', 'Burundi',\n",
       "       'Cabo Verde', 'Cambodia', 'Cameroon', 'Canada',\n",
       "       'Central African Republic', 'Chad', 'Chile', 'China', 'Colombia',\n",
       "       'Comoros', 'Congo (Brazzaville)', 'Congo (Kinshasa)', 'Costa Rica',\n",
       "       \"Cote d'Ivoire\", 'Croatia', 'Cuba', 'Cyprus', 'Czechia', 'Denmark',\n",
       "       'Djibouti', 'Dominica', 'Dominican Republic', 'Ecuador', 'Egypt',\n",
       "       'El Salvador', 'Equatorial Guinea', 'Eritrea', 'Estonia',\n",
       "       'Eswatini', 'Ethiopia', 'Fiji', 'Finland', 'France', 'Gabon',\n",
       "       'Gambia', 'Georgia', 'Germany', 'Ghana', 'Greece', 'Grenada',\n",
       "       'Guatemala', 'Guinea', 'Guinea-Bissau', 'Guyana', 'Haiti',\n",
       "       'Holy See', 'Honduras', 'Hungary', 'Iceland', 'India', 'Indonesia',\n",
       "       'Iran', 'Iraq', 'Ireland', 'Israel', 'Italy', 'Jamaica', 'Japan',\n",
       "       'Jordan', 'Kazakhstan', 'Kenya', 'Korea, South', 'Kosovo',\n",
       "       'Kuwait', 'Kyrgyzstan', 'Laos', 'Latvia', 'Lebanon', 'Lesotho',\n",
       "       'Liberia', 'Libya', 'Liechtenstein', 'Lithuania', 'Luxembourg',\n",
       "       'Madagascar', 'Malawi', 'Malaysia', 'Maldives', 'Mali', 'Malta',\n",
       "       'Marshall Islands', 'Mauritania', 'Mauritius', 'Mexico',\n",
       "       'Micronesia', 'Moldova', 'Monaco', 'Mongolia', 'Montenegro',\n",
       "       'Morocco', 'Mozambique', 'Namibia', 'Nepal', 'Netherlands',\n",
       "       'New Zealand', 'Nicaragua', 'Niger', 'Nigeria', 'North Macedonia',\n",
       "       'Norway', 'Oman', 'Pakistan', 'Panama', 'Papua New Guinea',\n",
       "       'Paraguay', 'Peru', 'Philippines', 'Poland', 'Portugal', 'Qatar',\n",
       "       'Romania', 'Russia', 'Rwanda', 'Saint Kitts and Nevis',\n",
       "       'Saint Lucia', 'Saint Vincent and the Grenadines', 'Samoa',\n",
       "       'San Marino', 'Sao Tome and Principe', 'Saudi Arabia', 'Senegal',\n",
       "       'Serbia', 'Seychelles', 'Sierra Leone', 'Singapore', 'Slovakia',\n",
       "       'Slovenia', 'Solomon Islands', 'Somalia', 'South Africa',\n",
       "       'South Sudan', 'Spain', 'Sri Lanka', 'Sudan', 'Suriname', 'Sweden',\n",
       "       'Switzerland', 'Syria', 'Taiwan*', 'Tajikistan', 'Tanzania',\n",
       "       'Thailand', 'Timor-Leste', 'Togo', 'Trinidad and Tobago',\n",
       "       'Tunisia', 'Turkey', 'US', 'Uganda', 'Ukraine',\n",
       "       'United Arab Emirates', 'United Kingdom', 'Uruguay', 'Uzbekistan',\n",
       "       'Vanuatu', 'Venezuela', 'Vietnam', 'West Bank and Gaza', 'Yemen',\n",
       "       'Zambia', 'Zimbabwe', 'Diamond Princess', 'MS Zaandam'],\n",
       "      dtype=object)"
      ]
     },
     "execution_count": 48,
     "metadata": {},
     "output_type": "execute_result"
    }
   ],
   "source": [
    "full_grouped[\"Country/Region\"].unique()"
   ]
  },
  {
   "cell_type": "code",
   "execution_count": 49,
   "id": "02609c1e",
   "metadata": {},
   "outputs": [
    {
     "data": {
      "text/plain": [
       "192"
      ]
     },
     "execution_count": 49,
     "metadata": {},
     "output_type": "execute_result"
    }
   ],
   "source": [
    "full_grouped[\"Country/Region\"].nunique()"
   ]
  },
  {
   "cell_type": "code",
   "execution_count": 50,
   "id": "9a509b34",
   "metadata": {},
   "outputs": [],
   "source": [
    "filt = full_grouped[\"Country/Region\"] = \"US\""
   ]
  },
  {
   "cell_type": "code",
   "execution_count": 51,
   "id": "6c0c2399",
   "metadata": {},
   "outputs": [
    {
     "data": {
      "text/plain": [
       "<bound method DataFrame.info of             Date Country/Region  Confirmed  Deaths  Recovered   Active  \\\n",
       "0     2020-01-22             US          0       0        0.0      0.0   \n",
       "1     2020-01-22             US          0       0        0.0      0.0   \n",
       "2     2020-01-22             US          0       0        0.0      0.0   \n",
       "3     2020-01-22             US          0       0        0.0      0.0   \n",
       "4     2020-01-22             US          0       0        0.0      0.0   \n",
       "...          ...            ...        ...     ...        ...      ...   \n",
       "89657 2021-05-02             US       2962      35     2549.0    378.0   \n",
       "89658 2021-05-02             US     297638    3272   275392.0  18974.0   \n",
       "89659 2021-05-02             US       6341    1233     2875.0   2233.0   \n",
       "89660 2021-05-02             US      91693    1253    90082.0    358.0   \n",
       "89661 2021-05-02             US      38281    1570    35634.0   1077.0   \n",
       "\n",
       "       New cases  New deaths  New recovered  \n",
       "0              0           0              0  \n",
       "1              0           0              0  \n",
       "2              0           0              0  \n",
       "3              0           0              0  \n",
       "4              0           0              0  \n",
       "...          ...         ...            ...  \n",
       "89657         20           0              1  \n",
       "89658       1176          23           3059  \n",
       "89659         16           4             81  \n",
       "89660         23           2             70  \n",
       "89661         21           2             14  \n",
       "\n",
       "[89662 rows x 9 columns]>"
      ]
     },
     "execution_count": 51,
     "metadata": {},
     "output_type": "execute_result"
    }
   ],
   "source": [
    "full_grouped.info"
   ]
  },
  {
   "cell_type": "code",
   "execution_count": 52,
   "id": "9f407061",
   "metadata": {},
   "outputs": [
    {
     "data": {
      "text/plain": [
       "0        US\n",
       "1        US\n",
       "2        US\n",
       "3        US\n",
       "4        US\n",
       "         ..\n",
       "89657    US\n",
       "89658    US\n",
       "89659    US\n",
       "89660    US\n",
       "89661    US\n",
       "Name: Country/Region, Length: 89662, dtype: object"
      ]
     },
     "execution_count": 52,
     "metadata": {},
     "output_type": "execute_result"
    }
   ],
   "source": [
    "full_grouped[\"Country/Region\"]"
   ]
  }
 ],
 "metadata": {
  "kernelspec": {
   "display_name": "Python [conda env:root] *",
   "language": "python",
   "name": "conda-root-py"
  },
  "language_info": {
   "codemirror_mode": {
    "name": "ipython",
    "version": 3
   },
   "file_extension": ".py",
   "mimetype": "text/x-python",
   "name": "python",
   "nbconvert_exporter": "python",
   "pygments_lexer": "ipython3",
   "version": "3.8.5"
  }
 },
 "nbformat": 4,
 "nbformat_minor": 5
}
